{
  "nbformat": 4,
  "nbformat_minor": 0,
  "metadata": {
    "colab": {
      "provenance": []
    },
    "kernelspec": {
      "name": "python3",
      "display_name": "Python 3"
    },
    "language_info": {
      "name": "python"
    }
  },
  "cells": [
    {
      "cell_type": "markdown",
      "source": [
        "https://docs.nixtla.io/docs/getting-started-timegpt_quickstart"
      ],
      "metadata": {
        "id": "ZfbYDZ7mOvir"
      }
    },
    {
      "cell_type": "code",
      "source": [
        "!pip install nixtla"
      ],
      "metadata": {
        "colab": {
          "base_uri": "https://localhost:8080/"
        },
        "id": "uBk061_ZOL7O",
        "outputId": "5ac58cc3-9404-4cfb-ee30-2340c196532f"
      },
      "execution_count": 2,
      "outputs": [
        {
          "output_type": "stream",
          "name": "stdout",
          "text": [
            "Collecting nixtla\n",
            "  Downloading nixtla-0.6.4-py3-none-any.whl.metadata (14 kB)\n",
            "Requirement already satisfied: annotated-types in /usr/local/lib/python3.10/dist-packages (from nixtla) (0.7.0)\n",
            "Requirement already satisfied: httpx in /usr/local/lib/python3.10/dist-packages (from nixtla) (0.28.0)\n",
            "Requirement already satisfied: orjson in /usr/local/lib/python3.10/dist-packages (from nixtla) (3.10.12)\n",
            "Requirement already satisfied: pandas in /usr/local/lib/python3.10/dist-packages (from nixtla) (2.2.2)\n",
            "Requirement already satisfied: tenacity in /usr/local/lib/python3.10/dist-packages (from nixtla) (9.0.0)\n",
            "Requirement already satisfied: tqdm in /usr/local/lib/python3.10/dist-packages (from nixtla) (4.66.6)\n",
            "Collecting utilsforecast>=0.2.8 (from nixtla)\n",
            "  Downloading utilsforecast-0.2.10-py3-none-any.whl.metadata (7.4 kB)\n",
            "Requirement already satisfied: numpy in /usr/local/lib/python3.10/dist-packages (from utilsforecast>=0.2.8->nixtla) (1.26.4)\n",
            "Requirement already satisfied: packaging in /usr/local/lib/python3.10/dist-packages (from utilsforecast>=0.2.8->nixtla) (24.2)\n",
            "Requirement already satisfied: python-dateutil>=2.8.2 in /usr/local/lib/python3.10/dist-packages (from pandas->nixtla) (2.8.2)\n",
            "Requirement already satisfied: pytz>=2020.1 in /usr/local/lib/python3.10/dist-packages (from pandas->nixtla) (2024.2)\n",
            "Requirement already satisfied: tzdata>=2022.7 in /usr/local/lib/python3.10/dist-packages (from pandas->nixtla) (2024.2)\n",
            "Requirement already satisfied: anyio in /usr/local/lib/python3.10/dist-packages (from httpx->nixtla) (3.7.1)\n",
            "Requirement already satisfied: certifi in /usr/local/lib/python3.10/dist-packages (from httpx->nixtla) (2024.8.30)\n",
            "Requirement already satisfied: httpcore==1.* in /usr/local/lib/python3.10/dist-packages (from httpx->nixtla) (1.0.7)\n",
            "Requirement already satisfied: idna in /usr/local/lib/python3.10/dist-packages (from httpx->nixtla) (3.10)\n",
            "Requirement already satisfied: h11<0.15,>=0.13 in /usr/local/lib/python3.10/dist-packages (from httpcore==1.*->httpx->nixtla) (0.14.0)\n",
            "Requirement already satisfied: six>=1.5 in /usr/local/lib/python3.10/dist-packages (from python-dateutil>=2.8.2->pandas->nixtla) (1.16.0)\n",
            "Requirement already satisfied: sniffio>=1.1 in /usr/local/lib/python3.10/dist-packages (from anyio->httpx->nixtla) (1.3.1)\n",
            "Requirement already satisfied: exceptiongroup in /usr/local/lib/python3.10/dist-packages (from anyio->httpx->nixtla) (1.2.2)\n",
            "Downloading nixtla-0.6.4-py3-none-any.whl (29 kB)\n",
            "Downloading utilsforecast-0.2.10-py3-none-any.whl (41 kB)\n",
            "\u001b[2K   \u001b[90m━━━━━━━━━━━━━━━━━━━━━━━━━━━━━━━━━━━━━━━━\u001b[0m \u001b[32m41.7/41.7 kB\u001b[0m \u001b[31m1.7 MB/s\u001b[0m eta \u001b[36m0:00:00\u001b[0m\n",
            "\u001b[?25hInstalling collected packages: utilsforecast, nixtla\n",
            "Successfully installed nixtla-0.6.4 utilsforecast-0.2.10\n"
          ]
        }
      ]
    },
    {
      "cell_type": "code",
      "execution_count": 4,
      "metadata": {
        "colab": {
          "base_uri": "https://localhost:8080/"
        },
        "id": "VHE9Yyx3M-UX",
        "outputId": "303672e0-e192-4038-9507-3dfa46e108f7"
      },
      "outputs": [
        {
          "output_type": "stream",
          "name": "stderr",
          "text": [
            "WARNING:nixtla.nixtla_client:The specified horizon \"h\" exceeds the model horizon, this may lead to less accurate forecasts. Please consider using a smaller horizon.\n",
            "WARNING:nixtla.nixtla_client:The specified horizon \"h\" exceeds the model horizon, this may lead to less accurate forecasts. Please consider using a smaller horizon.\n",
            "WARNING:nixtla.nixtla_client:The specified horizon \"h\" exceeds the model horizon, this may lead to less accurate forecasts. Please consider using a smaller horizon.\n"
          ]
        },
        {
          "output_type": "stream",
          "name": "stdout",
          "text": [
            "7.297120666666667\n",
            "3.9839966249999996\n",
            "3.665840166666666\n"
          ]
        }
      ],
      "source": [
        "from nixtla import NixtlaClient\n",
        "from sklearn.metrics import mean_absolute_error\n",
        "import pandas as pd\n",
        "\n",
        "# Initialize the TimeGPT client with your API key\n",
        "nixtla_client = NixtlaClient(api_key='nixak-wccHinP5NJuhljZlWPslz8bZpf8nl9lesmxsEj73t3LjjQEDAIHcNo1NZrqHpsN1sq5i0njgCceXnmmH')\n",
        "\n",
        "# Load the dataset containing electric production data and pre-process data\n",
        "df = pd.read_csv('Electric_Production.csv')\n",
        "df.rename(columns={'DATE': 'date', 'IPG2211A2N': 'power'}, inplace=True)\n",
        "df['date'] = pd.to_datetime(df['date'])#, format='%m/%d/%Y')\n",
        "\n",
        "# Split the data into training and testing sets\n",
        "train_cutoff = '2015-12-31'\n",
        "df_train = df[df['date'] <= '2015-12-31']\n",
        "df_test = df[df['date'].between('2016-01-01', '2017-12-31')]\n",
        "\n",
        "# Generate forecasts without fine-tuning (baseline)\n",
        "preds_no_ft = nixtla_client.forecast(\n",
        "    df=df_train, h=24,\n",
        "    time_col='date', target_col='power',\n",
        ")\n",
        "\n",
        "# Generate forecasts with 50 fine-tuning steps\n",
        "preds_ft_50_steps = nixtla_client.forecast(\n",
        "    df=df_train, h=24, finetune_steps=50,\n",
        "    time_col='date', target_col='power',\n",
        ")\n",
        "\n",
        "# Generate forecasts with 500 fine-tuning steps\n",
        "preds_ft_500_steps = nixtla_client.forecast(\n",
        "    df=df_train, h=24, finetune_steps=500,\n",
        "    time_col='date', target_col='power',\n",
        ")\n",
        "\n",
        "# Evaluate forecast performance using Mean Absolute Error (MAE)\n",
        "print(mean_absolute_error(df_test['power'], preds_no_ft[\"TimeGPT\"]))\n",
        "print(mean_absolute_error(df_test['power'], preds_ft_50_steps[\"TimeGPT\"]))\n",
        "print(mean_absolute_error(df_test['power'], preds_ft_500_steps[\"TimeGPT\"]))"
      ]
    }
  ]
}